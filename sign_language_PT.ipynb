{
  "cells": [
    {
      "cell_type": "markdown",
      "metadata": {
        "id": "Tw7uZ4w_O338"
      },
      "source": [
        "# Libraries"
      ]
    },
    {
      "cell_type": "code",
      "source": [
        "from google.colab import drive\n",
        "drive.mount ('/content/drive/')"
      ],
      "metadata": {
        "colab": {
          "base_uri": "https://localhost:8080/"
        },
        "id": "k9BzlJzePANC",
        "outputId": "71d64e63-f90c-4537-9aba-39e8f19431a6"
      },
      "execution_count": 1,
      "outputs": [
        {
          "output_type": "stream",
          "name": "stdout",
          "text": [
            "Mounted at /content/drive/\n"
          ]
        }
      ]
    },
    {
      "cell_type": "code",
      "source": [
        "!pip install split-folders"
      ],
      "metadata": {
        "colab": {
          "base_uri": "https://localhost:8080/"
        },
        "id": "2QL-myj6yheI",
        "outputId": "e5f45dc3-27f9-4443-8d68-3447fb04934c"
      },
      "execution_count": 2,
      "outputs": [
        {
          "output_type": "stream",
          "name": "stdout",
          "text": [
            "Collecting split-folders\n",
            "  Downloading split_folders-0.5.1-py3-none-any.whl (8.4 kB)\n",
            "Installing collected packages: split-folders\n",
            "Successfully installed split-folders-0.5.1\n"
          ]
        }
      ]
    },
    {
      "cell_type": "code",
      "source": [
        "!pip install seaborn"
      ],
      "metadata": {
        "colab": {
          "base_uri": "https://localhost:8080/"
        },
        "id": "6RuL4q0VyhUf",
        "outputId": "330787e7-440c-4653-e974-e4c9775db0f6"
      },
      "execution_count": 3,
      "outputs": [
        {
          "output_type": "stream",
          "name": "stdout",
          "text": [
            "Requirement already satisfied: seaborn in /usr/local/lib/python3.10/dist-packages (0.12.2)\n",
            "Requirement already satisfied: numpy!=1.24.0,>=1.17 in /usr/local/lib/python3.10/dist-packages (from seaborn) (1.23.5)\n",
            "Requirement already satisfied: pandas>=0.25 in /usr/local/lib/python3.10/dist-packages (from seaborn) (1.5.3)\n",
            "Requirement already satisfied: matplotlib!=3.6.1,>=3.1 in /usr/local/lib/python3.10/dist-packages (from seaborn) (3.7.1)\n",
            "Requirement already satisfied: contourpy>=1.0.1 in /usr/local/lib/python3.10/dist-packages (from matplotlib!=3.6.1,>=3.1->seaborn) (1.2.0)\n",
            "Requirement already satisfied: cycler>=0.10 in /usr/local/lib/python3.10/dist-packages (from matplotlib!=3.6.1,>=3.1->seaborn) (0.12.1)\n",
            "Requirement already satisfied: fonttools>=4.22.0 in /usr/local/lib/python3.10/dist-packages (from matplotlib!=3.6.1,>=3.1->seaborn) (4.46.0)\n",
            "Requirement already satisfied: kiwisolver>=1.0.1 in /usr/local/lib/python3.10/dist-packages (from matplotlib!=3.6.1,>=3.1->seaborn) (1.4.5)\n",
            "Requirement already satisfied: packaging>=20.0 in /usr/local/lib/python3.10/dist-packages (from matplotlib!=3.6.1,>=3.1->seaborn) (23.2)\n",
            "Requirement already satisfied: pillow>=6.2.0 in /usr/local/lib/python3.10/dist-packages (from matplotlib!=3.6.1,>=3.1->seaborn) (9.4.0)\n",
            "Requirement already satisfied: pyparsing>=2.3.1 in /usr/local/lib/python3.10/dist-packages (from matplotlib!=3.6.1,>=3.1->seaborn) (3.1.1)\n",
            "Requirement already satisfied: python-dateutil>=2.7 in /usr/local/lib/python3.10/dist-packages (from matplotlib!=3.6.1,>=3.1->seaborn) (2.8.2)\n",
            "Requirement already satisfied: pytz>=2020.1 in /usr/local/lib/python3.10/dist-packages (from pandas>=0.25->seaborn) (2023.3.post1)\n",
            "Requirement already satisfied: six>=1.5 in /usr/local/lib/python3.10/dist-packages (from python-dateutil>=2.7->matplotlib!=3.6.1,>=3.1->seaborn) (1.16.0)\n"
          ]
        }
      ]
    },
    {
      "cell_type": "code",
      "execution_count": 4,
      "metadata": {
        "id": "9Gb2aQCTO34C"
      },
      "outputs": [],
      "source": [
        "\n",
        "## Directories\n",
        "import random\n",
        "import shutil\n",
        "##\n",
        "import pandas as pd\n",
        "import numpy as np\n",
        "import os\n",
        "\n",
        "## Graphs\n",
        "import matplotlib.pyplot as plt\n",
        "import seaborn as sns\n",
        "\n",
        "from PIL import Image\n",
        "# TensorFlow\n",
        "import tensorflow as tf\n",
        "from tensorflow.keras import models, layers\n",
        "# Keras\n",
        "from keras.applications.vgg16 import preprocess_input, decode_predictions\n",
        "from keras.callbacks import EarlyStopping,ReduceLROnPlateau\n",
        "from keras.preprocessing.image import ImageDataGenerator\n",
        "\n",
        "# Image processing\n",
        "from keras.preprocessing import image\n",
        "# Metrics\n",
        "from sklearn.metrics import classification_report, confusion_matrix\n",
        "# Time\n",
        "import time"
      ]
    },
    {
      "cell_type": "code",
      "source": [
        "# Dictionary to save our 26 classes\n",
        "categories = {\n",
        "    0: \"A\", 1: \"B\", 2: \"C\", 3: \"D\", 4: \"E\", 5: \"F\", 6: \"G\", 7: \"H\", 8: \"I\", 9: \"J\",\n",
        "    10: \"K\", 11: \"L\", 12: \"M\", 13: \"N\", 14: \"O\", 15: \"P\", 16: \"Q\", 17: \"R\", 18: \"S\",\n",
        "    19: \"T\", 20: \"U\", 21: \"V\", 22: \"W\", 23: \"X\", 24: \"Y\", 25: \"Z\"\n",
        "}\n",
        "\n",
        "def add_class_name_prefix(df, col_name):\n",
        "    df['Numerical_Label'] = df[col_name].map({v: k for k, v in categories.items()})\n",
        "    return df\n",
        "\n",
        "# Your base path containing folders for each class (A-Z)\n",
        "base_path = '/content/drive/MyDrive/Project_Deep_Learning /Images_Folder'  # Update with your actual path\n",
        "\n",
        "# List containing all the filenames in the dataset\n",
        "filenames_list = []\n",
        "# List to store the corresponding category, note that each folder of the dataset has one class of data\n",
        "categories_list = []\n",
        "\n",
        "for category in categories:\n",
        "    filenames = os.listdir(os.path.join(base_path, categories[category]))\n",
        "    filenames_list += filenames\n",
        "    categories_list += [categories[category]] * len(filenames)\n",
        "\n",
        "# Create a DataFrame\n",
        "df = pd.DataFrame({\"filename\": filenames_list, \"category\": categories_list})\n",
        "\n",
        "# Add numerical labels to the DataFrame\n",
        "df = add_class_name_prefix(df, \"category\")\n",
        "\n",
        "# Shuffle the DataFrame\n",
        "df = df.sample(frac=1).reset_index(drop=True)\n"
      ],
      "metadata": {
        "id": "OyNdNixmxTzq"
      },
      "execution_count": 5,
      "outputs": []
    },
    {
      "cell_type": "code",
      "source": [
        "df"
      ],
      "metadata": {
        "colab": {
          "base_uri": "https://localhost:8080/",
          "height": 423
        },
        "id": "v9mkM4_Yxsdx",
        "outputId": "72efbf56-1f26-4a60-fadb-636109e082dd"
      },
      "execution_count": 6,
      "outputs": [
        {
          "output_type": "execute_result",
          "data": {
            "text/plain": [
              "                                    filename category  Numerical_Label\n",
              "0          WIN_20231226_14_47_17_Pro (2).jpg        V               21\n",
              "1          WIN_20231224_18_31_43_Pro (2).jpg        D                3\n",
              "2              WIN_20231226_14_48_57_Pro.jpg        Y               24\n",
              "3                                      E.jpg        E                4\n",
              "4     Captura de ecrã 2023-12-19 134407.png        I                8\n",
              "...                                      ...      ...              ...\n",
              "9265           WIN_20231220_08_58_21_Pro.jpg        E                4\n",
              "9266           WIN_20231226_22_49_08_Pro.jpg        P               15\n",
              "9267           WIN_20231224_18_38_56_Pro.jpg        M               12\n",
              "9268           WIN_20231221_15_59_42_Pro.jpg        J                9\n",
              "9269           WIN_20231226_22_48_54_Pro.jpg        P               15\n",
              "\n",
              "[9270 rows x 3 columns]"
            ],
            "text/html": [
              "\n",
              "  <div id=\"df-7e79d540-d292-43b3-ac9e-aa4778f14258\" class=\"colab-df-container\">\n",
              "    <div>\n",
              "<style scoped>\n",
              "    .dataframe tbody tr th:only-of-type {\n",
              "        vertical-align: middle;\n",
              "    }\n",
              "\n",
              "    .dataframe tbody tr th {\n",
              "        vertical-align: top;\n",
              "    }\n",
              "\n",
              "    .dataframe thead th {\n",
              "        text-align: right;\n",
              "    }\n",
              "</style>\n",
              "<table border=\"1\" class=\"dataframe\">\n",
              "  <thead>\n",
              "    <tr style=\"text-align: right;\">\n",
              "      <th></th>\n",
              "      <th>filename</th>\n",
              "      <th>category</th>\n",
              "      <th>Numerical_Label</th>\n",
              "    </tr>\n",
              "  </thead>\n",
              "  <tbody>\n",
              "    <tr>\n",
              "      <th>0</th>\n",
              "      <td>WIN_20231226_14_47_17_Pro (2).jpg</td>\n",
              "      <td>V</td>\n",
              "      <td>21</td>\n",
              "    </tr>\n",
              "    <tr>\n",
              "      <th>1</th>\n",
              "      <td>WIN_20231224_18_31_43_Pro (2).jpg</td>\n",
              "      <td>D</td>\n",
              "      <td>3</td>\n",
              "    </tr>\n",
              "    <tr>\n",
              "      <th>2</th>\n",
              "      <td>WIN_20231226_14_48_57_Pro.jpg</td>\n",
              "      <td>Y</td>\n",
              "      <td>24</td>\n",
              "    </tr>\n",
              "    <tr>\n",
              "      <th>3</th>\n",
              "      <td>E.jpg</td>\n",
              "      <td>E</td>\n",
              "      <td>4</td>\n",
              "    </tr>\n",
              "    <tr>\n",
              "      <th>4</th>\n",
              "      <td>Captura de ecrã 2023-12-19 134407.png</td>\n",
              "      <td>I</td>\n",
              "      <td>8</td>\n",
              "    </tr>\n",
              "    <tr>\n",
              "      <th>...</th>\n",
              "      <td>...</td>\n",
              "      <td>...</td>\n",
              "      <td>...</td>\n",
              "    </tr>\n",
              "    <tr>\n",
              "      <th>9265</th>\n",
              "      <td>WIN_20231220_08_58_21_Pro.jpg</td>\n",
              "      <td>E</td>\n",
              "      <td>4</td>\n",
              "    </tr>\n",
              "    <tr>\n",
              "      <th>9266</th>\n",
              "      <td>WIN_20231226_22_49_08_Pro.jpg</td>\n",
              "      <td>P</td>\n",
              "      <td>15</td>\n",
              "    </tr>\n",
              "    <tr>\n",
              "      <th>9267</th>\n",
              "      <td>WIN_20231224_18_38_56_Pro.jpg</td>\n",
              "      <td>M</td>\n",
              "      <td>12</td>\n",
              "    </tr>\n",
              "    <tr>\n",
              "      <th>9268</th>\n",
              "      <td>WIN_20231221_15_59_42_Pro.jpg</td>\n",
              "      <td>J</td>\n",
              "      <td>9</td>\n",
              "    </tr>\n",
              "    <tr>\n",
              "      <th>9269</th>\n",
              "      <td>WIN_20231226_22_48_54_Pro.jpg</td>\n",
              "      <td>P</td>\n",
              "      <td>15</td>\n",
              "    </tr>\n",
              "  </tbody>\n",
              "</table>\n",
              "<p>9270 rows × 3 columns</p>\n",
              "</div>\n",
              "    <div class=\"colab-df-buttons\">\n",
              "\n",
              "  <div class=\"colab-df-container\">\n",
              "    <button class=\"colab-df-convert\" onclick=\"convertToInteractive('df-7e79d540-d292-43b3-ac9e-aa4778f14258')\"\n",
              "            title=\"Convert this dataframe to an interactive table.\"\n",
              "            style=\"display:none;\">\n",
              "\n",
              "  <svg xmlns=\"http://www.w3.org/2000/svg\" height=\"24px\" viewBox=\"0 -960 960 960\">\n",
              "    <path d=\"M120-120v-720h720v720H120Zm60-500h600v-160H180v160Zm220 220h160v-160H400v160Zm0 220h160v-160H400v160ZM180-400h160v-160H180v160Zm440 0h160v-160H620v160ZM180-180h160v-160H180v160Zm440 0h160v-160H620v160Z\"/>\n",
              "  </svg>\n",
              "    </button>\n",
              "\n",
              "  <style>\n",
              "    .colab-df-container {\n",
              "      display:flex;\n",
              "      gap: 12px;\n",
              "    }\n",
              "\n",
              "    .colab-df-convert {\n",
              "      background-color: #E8F0FE;\n",
              "      border: none;\n",
              "      border-radius: 50%;\n",
              "      cursor: pointer;\n",
              "      display: none;\n",
              "      fill: #1967D2;\n",
              "      height: 32px;\n",
              "      padding: 0 0 0 0;\n",
              "      width: 32px;\n",
              "    }\n",
              "\n",
              "    .colab-df-convert:hover {\n",
              "      background-color: #E2EBFA;\n",
              "      box-shadow: 0px 1px 2px rgba(60, 64, 67, 0.3), 0px 1px 3px 1px rgba(60, 64, 67, 0.15);\n",
              "      fill: #174EA6;\n",
              "    }\n",
              "\n",
              "    .colab-df-buttons div {\n",
              "      margin-bottom: 4px;\n",
              "    }\n",
              "\n",
              "    [theme=dark] .colab-df-convert {\n",
              "      background-color: #3B4455;\n",
              "      fill: #D2E3FC;\n",
              "    }\n",
              "\n",
              "    [theme=dark] .colab-df-convert:hover {\n",
              "      background-color: #434B5C;\n",
              "      box-shadow: 0px 1px 3px 1px rgba(0, 0, 0, 0.15);\n",
              "      filter: drop-shadow(0px 1px 2px rgba(0, 0, 0, 0.3));\n",
              "      fill: #FFFFFF;\n",
              "    }\n",
              "  </style>\n",
              "\n",
              "    <script>\n",
              "      const buttonEl =\n",
              "        document.querySelector('#df-7e79d540-d292-43b3-ac9e-aa4778f14258 button.colab-df-convert');\n",
              "      buttonEl.style.display =\n",
              "        google.colab.kernel.accessAllowed ? 'block' : 'none';\n",
              "\n",
              "      async function convertToInteractive(key) {\n",
              "        const element = document.querySelector('#df-7e79d540-d292-43b3-ac9e-aa4778f14258');\n",
              "        const dataTable =\n",
              "          await google.colab.kernel.invokeFunction('convertToInteractive',\n",
              "                                                    [key], {});\n",
              "        if (!dataTable) return;\n",
              "\n",
              "        const docLinkHtml = 'Like what you see? Visit the ' +\n",
              "          '<a target=\"_blank\" href=https://colab.research.google.com/notebooks/data_table.ipynb>data table notebook</a>'\n",
              "          + ' to learn more about interactive tables.';\n",
              "        element.innerHTML = '';\n",
              "        dataTable['output_type'] = 'display_data';\n",
              "        await google.colab.output.renderOutput(dataTable, element);\n",
              "        const docLink = document.createElement('div');\n",
              "        docLink.innerHTML = docLinkHtml;\n",
              "        element.appendChild(docLink);\n",
              "      }\n",
              "    </script>\n",
              "  </div>\n",
              "\n",
              "\n",
              "<div id=\"df-4d7d4213-73c8-44b4-af09-283b195d7b9c\">\n",
              "  <button class=\"colab-df-quickchart\" onclick=\"quickchart('df-4d7d4213-73c8-44b4-af09-283b195d7b9c')\"\n",
              "            title=\"Suggest charts\"\n",
              "            style=\"display:none;\">\n",
              "\n",
              "<svg xmlns=\"http://www.w3.org/2000/svg\" height=\"24px\"viewBox=\"0 0 24 24\"\n",
              "     width=\"24px\">\n",
              "    <g>\n",
              "        <path d=\"M19 3H5c-1.1 0-2 .9-2 2v14c0 1.1.9 2 2 2h14c1.1 0 2-.9 2-2V5c0-1.1-.9-2-2-2zM9 17H7v-7h2v7zm4 0h-2V7h2v10zm4 0h-2v-4h2v4z\"/>\n",
              "    </g>\n",
              "</svg>\n",
              "  </button>\n",
              "\n",
              "<style>\n",
              "  .colab-df-quickchart {\n",
              "      --bg-color: #E8F0FE;\n",
              "      --fill-color: #1967D2;\n",
              "      --hover-bg-color: #E2EBFA;\n",
              "      --hover-fill-color: #174EA6;\n",
              "      --disabled-fill-color: #AAA;\n",
              "      --disabled-bg-color: #DDD;\n",
              "  }\n",
              "\n",
              "  [theme=dark] .colab-df-quickchart {\n",
              "      --bg-color: #3B4455;\n",
              "      --fill-color: #D2E3FC;\n",
              "      --hover-bg-color: #434B5C;\n",
              "      --hover-fill-color: #FFFFFF;\n",
              "      --disabled-bg-color: #3B4455;\n",
              "      --disabled-fill-color: #666;\n",
              "  }\n",
              "\n",
              "  .colab-df-quickchart {\n",
              "    background-color: var(--bg-color);\n",
              "    border: none;\n",
              "    border-radius: 50%;\n",
              "    cursor: pointer;\n",
              "    display: none;\n",
              "    fill: var(--fill-color);\n",
              "    height: 32px;\n",
              "    padding: 0;\n",
              "    width: 32px;\n",
              "  }\n",
              "\n",
              "  .colab-df-quickchart:hover {\n",
              "    background-color: var(--hover-bg-color);\n",
              "    box-shadow: 0 1px 2px rgba(60, 64, 67, 0.3), 0 1px 3px 1px rgba(60, 64, 67, 0.15);\n",
              "    fill: var(--button-hover-fill-color);\n",
              "  }\n",
              "\n",
              "  .colab-df-quickchart-complete:disabled,\n",
              "  .colab-df-quickchart-complete:disabled:hover {\n",
              "    background-color: var(--disabled-bg-color);\n",
              "    fill: var(--disabled-fill-color);\n",
              "    box-shadow: none;\n",
              "  }\n",
              "\n",
              "  .colab-df-spinner {\n",
              "    border: 2px solid var(--fill-color);\n",
              "    border-color: transparent;\n",
              "    border-bottom-color: var(--fill-color);\n",
              "    animation:\n",
              "      spin 1s steps(1) infinite;\n",
              "  }\n",
              "\n",
              "  @keyframes spin {\n",
              "    0% {\n",
              "      border-color: transparent;\n",
              "      border-bottom-color: var(--fill-color);\n",
              "      border-left-color: var(--fill-color);\n",
              "    }\n",
              "    20% {\n",
              "      border-color: transparent;\n",
              "      border-left-color: var(--fill-color);\n",
              "      border-top-color: var(--fill-color);\n",
              "    }\n",
              "    30% {\n",
              "      border-color: transparent;\n",
              "      border-left-color: var(--fill-color);\n",
              "      border-top-color: var(--fill-color);\n",
              "      border-right-color: var(--fill-color);\n",
              "    }\n",
              "    40% {\n",
              "      border-color: transparent;\n",
              "      border-right-color: var(--fill-color);\n",
              "      border-top-color: var(--fill-color);\n",
              "    }\n",
              "    60% {\n",
              "      border-color: transparent;\n",
              "      border-right-color: var(--fill-color);\n",
              "    }\n",
              "    80% {\n",
              "      border-color: transparent;\n",
              "      border-right-color: var(--fill-color);\n",
              "      border-bottom-color: var(--fill-color);\n",
              "    }\n",
              "    90% {\n",
              "      border-color: transparent;\n",
              "      border-bottom-color: var(--fill-color);\n",
              "    }\n",
              "  }\n",
              "</style>\n",
              "\n",
              "  <script>\n",
              "    async function quickchart(key) {\n",
              "      const quickchartButtonEl =\n",
              "        document.querySelector('#' + key + ' button');\n",
              "      quickchartButtonEl.disabled = true;  // To prevent multiple clicks.\n",
              "      quickchartButtonEl.classList.add('colab-df-spinner');\n",
              "      try {\n",
              "        const charts = await google.colab.kernel.invokeFunction(\n",
              "            'suggestCharts', [key], {});\n",
              "      } catch (error) {\n",
              "        console.error('Error during call to suggestCharts:', error);\n",
              "      }\n",
              "      quickchartButtonEl.classList.remove('colab-df-spinner');\n",
              "      quickchartButtonEl.classList.add('colab-df-quickchart-complete');\n",
              "    }\n",
              "    (() => {\n",
              "      let quickchartButtonEl =\n",
              "        document.querySelector('#df-4d7d4213-73c8-44b4-af09-283b195d7b9c button');\n",
              "      quickchartButtonEl.style.display =\n",
              "        google.colab.kernel.accessAllowed ? 'block' : 'none';\n",
              "    })();\n",
              "  </script>\n",
              "</div>\n",
              "    </div>\n",
              "  </div>\n"
            ]
          },
          "metadata": {},
          "execution_count": 6
        }
      ]
    },
    {
      "cell_type": "code",
      "source": [
        "filename_counts = df['category'].value_counts().sort_index()\n",
        "\n",
        "# Display the result\n",
        "filename_counts\n"
      ],
      "metadata": {
        "colab": {
          "base_uri": "https://localhost:8080/"
        },
        "id": "KoNpVZc2y2_l",
        "outputId": "150c0321-6a6d-4e11-b969-3093ae4ecb16"
      },
      "execution_count": 7,
      "outputs": [
        {
          "output_type": "execute_result",
          "data": {
            "text/plain": [
              "A    411\n",
              "B    377\n",
              "C    357\n",
              "D    368\n",
              "E    350\n",
              "F    371\n",
              "G    351\n",
              "H    391\n",
              "I    329\n",
              "J    362\n",
              "K    347\n",
              "L    359\n",
              "M    366\n",
              "N    345\n",
              "O    348\n",
              "P    354\n",
              "Q    330\n",
              "R    365\n",
              "S    361\n",
              "T    352\n",
              "U    337\n",
              "V    352\n",
              "W    328\n",
              "X    363\n",
              "Y    336\n",
              "Z    360\n",
              "Name: category, dtype: int64"
            ]
          },
          "metadata": {},
          "execution_count": 7
        }
      ]
    },
    {
      "cell_type": "code",
      "source": [
        "label,count = np.unique(df.category,return_counts=True)\n",
        "uni = pd.DataFrame(data=count,index=categories.values(),columns=['Count'])\n",
        "\n",
        "plt.figure(figsize=(14,4),dpi=200)\n",
        "sns.barplot(data=uni,x=uni.index,y='Count',palette='icefire',width=0.4).set_title('Class distribution in Dataset',fontsize=15)\n",
        "plt.show()"
      ],
      "metadata": {
        "colab": {
          "base_uri": "https://localhost:8080/",
          "height": 531
        },
        "id": "uHdOZls31LW8",
        "outputId": "e04c9061-d794-48ab-a1b8-901c1741ef88"
      },
      "execution_count": 8,
      "outputs": [
        {
          "output_type": "display_data",
          "data": {
            "text/plain": [
              "<Figure size 2800x800 with 1 Axes>"
            ],
            "image/png": "[encoded data removed]"
          },
          "metadata": {}
        }
      ]
    },
    {
      "cell_type": "code",
      "source": [
        "#%run /content/drive/MyDrive/DLNN/Functions.ipynb"
      ],
      "metadata": {
        "colab": {
          "base_uri": "https://localhost:8080/"
        },
        "id": "twxzxbBa20ZD",
        "outputId": "0cba4b20-d1bb-45a8-c55f-c8f86a50a99b"
      },
      "execution_count": null,
      "outputs": [
        {
          "output_type": "stream",
          "name": "stdout",
          "text": [
            "Drive already mounted at /content/drive/; to attempt to forcibly remount, call drive.mount(\"/content/drive/\", force_remount=True).\n"
          ]
        }
      ]
    },
    {
      "cell_type": "markdown",
      "source": [
        "<a id='6'></a>\n",
        "<div class=\"alert alert-block alert-info\"><h2 style=\"text-align:center;color:black\"> Train Test Split </h2> </div>\n",
        "\n",
        "We will split the data in three parts.\n",
        "* Training dataset (70%)\n",
        "* Validation dataset (15%)\n",
        "* Testing dataset (15%)"
      ],
      "metadata": {
        "id": "3-yCwn4A1ZCR"
      }
    },
    {
      "cell_type": "code",
      "source": [
        "import splitfolders\n",
        "splitfolders.ratio(\"/content/drive/MyDrive/Project_Deep_Learning /Images_Folder\", output=\"/content/drive/MyDrive/Project_Deep_Learning /output\", seed=1337, ratio=(0.7, 0.15,0.15))"
      ],
      "metadata": {
        "colab": {
          "base_uri": "https://localhost:8080/"
        },
        "id": "bPNba5ODvhOf",
        "outputId": "1279c374-5c27-4cc8-98e1-d8559c4ea769"
      },
      "execution_count": null,
      "outputs": [
        {
          "output_type": "stream",
          "name": "stderr",
          "text": [
            "Copying files: 9270 files [03:36, 42.90 files/s]\n"
          ]
        }
      ]
    },
    {
      "cell_type": "markdown",
      "metadata": {
        "id": "S9LSvcihO34M"
      },
      "source": [
        "# Augmentation"
      ]
    },
    {
      "cell_type": "code",
      "source": [
        "#datagen = ImageDataGenerator(rescale= 1.0 / 255)"
      ],
      "metadata": {
        "id": "nkYtVpfNj8Xe"
      },
      "execution_count": null,
      "outputs": []
    },
    {
      "cell_type": "code",
      "source": [
        "train_datagen = tf.keras.preprocessing.image.ImageDataGenerator(\n",
        "    rotation_range=20,\n",
        "    width_shift_range=0.2,\n",
        "    height_shift_range=0.2,\n",
        "    shear_range=0.2,\n",
        "    zoom_range=0.2,\n",
        "    fill_mode='nearest', # Strategy used for filling in newly created pixels, which can appear after a rotation or a width/height shift.\n",
        "    rescale=1./255, # Our original images consist in RGB coefficients in the 0-255, but such values would be too high for our models to process (given a typical learning rate), so we target values between 0 and 1 instead by scaling with a 1/255. factor.\n",
        "    horizontal_flip=False\n",
        ")"
      ],
      "metadata": {
        "id": "ZcGo9A4I2G-9"
      },
      "execution_count": 9,
      "outputs": []
    },
    {
      "cell_type": "code",
      "source": [
        "train_path = '/content/drive/MyDrive/Project_Deep_Learning /output/train'\n",
        "val_path = '/content/drive/MyDrive/Project_Deep_Learning /output/val'\n",
        "test_path = '/content/drive/MyDrive/Project_Deep_Learning /output/test'\n",
        "\n",
        "batch = 32\n",
        "image_size = 150\n",
        "img_channel = 3\n",
        "n_classes = 26"
      ],
      "metadata": {
        "id": "otK1nFB8j1_O"
      },
      "execution_count": 10,
      "outputs": []
    },
    {
      "cell_type": "code",
      "source": [
        "train_data = train_datagen.flow_from_directory(directory= train_path,\n",
        "                                         target_size=(image_size,image_size),\n",
        "                                         batch_size = batch,\n",
        "                                         class_mode='categorical')\n",
        "\n",
        "val_data = train_datagen.flow_from_directory(directory= val_path,\n",
        "                                       target_size=(image_size,image_size),\n",
        "                                       batch_size = batch,\n",
        "                                       class_mode='categorical',\n",
        "                                       )\n",
        "\n",
        "test_data = train_datagen.flow_from_directory(directory= test_path,\n",
        "                                         target_size=(image_size,image_size),\n",
        "                                         batch_size = batch,\n",
        "                                         class_mode='categorical',\n",
        "                                         shuffle= False)"
      ],
      "metadata": {
        "colab": {
          "base_uri": "https://localhost:8080/"
        },
        "id": "UIJTUxlhj3Ox",
        "outputId": "48e91c71-c23f-45a2-bb43-46c81c8f2946"
      },
      "execution_count": 11,
      "outputs": [
        {
          "output_type": "stream",
          "name": "stdout",
          "text": [
            "Found 6473 images belonging to 26 classes.\n",
            "Found 1378 images belonging to 26 classes.\n",
            "Found 1419 images belonging to 26 classes.\n"
          ]
        }
      ]
    },
    {
      "cell_type": "markdown",
      "metadata": {
        "id": "krrQMsWGO34P"
      },
      "source": [
        "# Modeling"
      ]
    },
    {
      "cell_type": "code",
      "execution_count": 12,
      "metadata": {
        "id": "lcMQDewYO34P",
        "colab": {
          "base_uri": "https://localhost:8080/"
        },
        "outputId": "a7b95d57-fd0f-4821-c658-d4597fc7b0a8"
      },
      "outputs": [
        {
          "output_type": "execute_result",
          "data": {
            "text/plain": [
              "26"
            ]
          },
          "metadata": {},
          "execution_count": 12
        }
      ],
      "source": [
        "num_of_classes = len(categories)\n",
        "num_of_classes"
      ]
    },
    {
      "cell_type": "code",
      "execution_count": 13,
      "metadata": {
        "id": "9cbFwPXAO34P",
        "colab": {
          "base_uri": "https://localhost:8080/"
        },
        "outputId": "b5e7111c-dbeb-4905-ae54-4959f6871677"
      },
      "outputs": [
        {
          "output_type": "stream",
          "name": "stdout",
          "text": [
            "Model: \"sequential\"\n",
            "_________________________________________________________________\n",
            " Layer (type)                Output Shape              Param #   \n",
            "=================================================================\n",
            " conv2d (Conv2D)             (None, 148, 148, 32)      896       \n",
            "                                                                 \n",
            " max_pooling2d (MaxPooling2  (None, 74, 74, 32)        0         \n",
            " D)                                                              \n",
            "                                                                 \n",
            " conv2d_1 (Conv2D)           (None, 72, 72, 64)        18496     \n",
            "                                                                 \n",
            " max_pooling2d_1 (MaxPoolin  (None, 36, 36, 64)        0         \n",
            " g2D)                                                            \n",
            "                                                                 \n",
            " conv2d_2 (Conv2D)           (None, 34, 34, 128)       73856     \n",
            "                                                                 \n",
            " max_pooling2d_2 (MaxPoolin  (None, 17, 17, 128)       0         \n",
            " g2D)                                                            \n",
            "                                                                 \n",
            " flatten (Flatten)           (None, 36992)             0         \n",
            "                                                                 \n",
            " dense (Dense)               (None, 512)               18940416  \n",
            "                                                                 \n",
            " dense_1 (Dense)             (None, 26)                13338     \n",
            "                                                                 \n",
            "=================================================================\n",
            "Total params: 19047002 (72.66 MB)\n",
            "Trainable params: 19047002 (72.66 MB)\n",
            "Non-trainable params: 0 (0.00 Byte)\n",
            "_________________________________________________________________\n"
          ]
        }
      ],
      "source": [
        "# Your existing CNN layers\n",
        "model = models.Sequential()\n",
        "model.add(layers.Conv2D(32, (3, 3), input_shape=(150, 150, 3), activation='relu'))\n",
        "model.add(layers.MaxPooling2D((2, 2)))\n",
        "model.add(layers.Conv2D(64, (3, 3), activation='relu'))\n",
        "model.add(layers.MaxPooling2D((2, 2)))\n",
        "model.add(layers.Conv2D(128, (3, 3), activation='relu'))\n",
        "model.add(layers.MaxPooling2D((2, 2)))\n",
        "model.add(layers.Flatten())\n",
        "\n",
        "# Fully connected layers\n",
        "model.add(layers.Dense(512, activation='relu'))\n",
        "model.add(layers.Dense(num_of_classes, activation='softmax'))\n",
        "model.summary()\n"
      ]
    },
    {
      "cell_type": "code",
      "source": [
        "early_stoping = EarlyStopping(monitor='val_loss', mode='min', verbose=1, patience=5)"
      ],
      "metadata": {
        "id": "OygOLzLLihlG"
      },
      "execution_count": 14,
      "outputs": []
    },
    {
      "cell_type": "code",
      "source": [
        "model.compile(\n",
        "    loss='categorical_crossentropy',\n",
        "    optimizer='adam',\n",
        "    metrics=['acc'])"
      ],
      "metadata": {
        "id": "OlaTZVwJ7W6R"
      },
      "execution_count": 15,
      "outputs": []
    },
    {
      "cell_type": "code",
      "source": [
        "history = model.fit(train_data,\n",
        "                      validation_data= val_data,\n",
        "                      epochs=100,\n",
        "                      callbacks=[early_stoping],\n",
        "                      verbose = 1)"
      ],
      "metadata": {
        "colab": {
          "base_uri": "https://localhost:8080/"
        },
        "id": "TYUlr6irjB28",
        "outputId": "73bd50ad-2a28-4841-ed9d-2fab4fdeeee9"
      },
      "execution_count": null,
      "outputs": [
        {
          "output_type": "stream",
          "name": "stdout",
          "text": [
            "Epoch 1/100\n",
            "203/203 [==============================] - 1819s 9s/step - loss: 3.2502 - acc: 0.0522 - val_loss: 3.1783 - val_acc: 0.0776\n",
            "Epoch 2/100\n",
            "203/203 [==============================] - 104s 511ms/step - loss: 3.1078 - acc: 0.0901 - val_loss: 3.0263 - val_acc: 0.1016\n",
            "Epoch 3/100\n",
            "203/203 [==============================] - 103s 508ms/step - loss: 2.9327 - acc: 0.1302 - val_loss: 2.8820 - val_acc: 0.1350\n",
            "Epoch 4/100\n",
            "203/203 [==============================] - 101s 496ms/step - loss: 2.7808 - acc: 0.1685 - val_loss: 2.7297 - val_acc: 0.1836\n",
            "Epoch 5/100\n",
            "203/203 [==============================] - 102s 501ms/step - loss: 2.6340 - acc: 0.2073 - val_loss: 2.6511 - val_acc: 0.1807\n",
            "203/203 [==============================] - 99s 488ms/step - loss: 2.5081 - acc: 0.2412 - val_loss: 2.4823 - val_acc: 0.2409\n",
            "Epoch 7/100\n",
            "203/203 [==============================] - 102s 503ms/step - loss: 2.3747 - acc: 0.2813 - val_loss: 2.4500 - val_acc: 0.2700\n",
            "Epoch 8/100\n",
            "203/203 [==============================] - 101s 498ms/step - loss: 2.2609 - acc: 0.3056 - val_loss: 2.3008 - val_acc: 0.3120\n",
            "Epoch 9/100\n",
            "203/203 [==============================] - 99s 488ms/step - loss: 2.0953 - acc: 0.3581 - val_loss: 2.1949 - val_acc: 0.3367\n",
            "Epoch 10/100\n",
            "203/203 [==============================] - 101s 497ms/step - loss: 2.0109 - acc: 0.3816 - val_loss: 2.1028 - val_acc: 0.3425\n",
            "Epoch 11/100\n",
            "203/203 [==============================] - 102s 501ms/step - loss: 1.9085 - acc: 0.4061 - val_loss: 2.0001 - val_acc: 0.3890\n",
            "Epoch 12/100\n",
            "203/203 [==============================] - 100s 494ms/step - loss: 1.8366 - acc: 0.4366 - val_loss: 1.8824 - val_acc: 0.4180\n",
            "Epoch 13/100\n",
            "177/203 [=========================>....] - ETA: 10s - loss: 1.7333 - acc: 0.4590"
          ]
        }
      ]
    },
    {
      "cell_type": "markdown",
      "metadata": {
        "id": "T14E8eewO34Q"
      },
      "source": [
        "# Prediction"
      ]
    },
    {
      "cell_type": "code",
      "source": [],
      "metadata": {
        "id": "I-DwgG-AoJHJ"
      },
      "execution_count": null,
      "outputs": []
    },
    {
      "cell_type": "code",
      "source": [],
      "metadata": {
        "id": "0B7aJdotoJLb"
      },
      "execution_count": null,
      "outputs": []
    },
    {
      "cell_type": "code",
      "source": [],
      "metadata": {
        "id": "klINbZeDoJOU"
      },
      "execution_count": null,
      "outputs": []
    },
    {
      "cell_type": "code",
      "source": [],
      "metadata": {
        "id": "emz3fOE2oJQ9"
      },
      "execution_count": null,
      "outputs": []
    },
    {
      "cell_type": "code",
      "source": [],
      "metadata": {
        "id": "1jK_GXKaoJTy"
      },
      "execution_count": null,
      "outputs": []
    },
    {
      "cell_type": "code",
      "source": [],
      "metadata": {
        "id": "KJLDbRk7oJWd"
      },
      "execution_count": null,
      "outputs": []
    },
    {
      "cell_type": "code",
      "source": [],
      "metadata": {
        "id": "zCGd3RHyoJZi"
      },
      "execution_count": null,
      "outputs": []
    },
    {
      "cell_type": "code",
      "execution_count": null,
      "metadata": {
        "id": "gcUBjN_SO34Q"
      },
      "outputs": [],
      "source": [
        "test_generator = test_datagen.flow_from_directory(\n",
        "    directory=r\"/content/Output/test\",\n",
        "    target_size=(150, 150),\n",
        "    batch_size=20,\n",
        "    class_mode=\"categorical\",\n",
        "    #classes=letters,\n",
        "    shuffle=False,\n",
        "    seed=42\n",
        ")"
      ]
    },
    {
      "cell_type": "code",
      "execution_count": null,
      "metadata": {
        "id": "BuKEhQGJO34Q"
      },
      "outputs": [],
      "source": [
        "count_images_generator(test_generator)"
      ]
    },
    {
      "cell_type": "code",
      "execution_count": null,
      "metadata": {
        "id": "WBU5D1vXO34Q"
      },
      "outputs": [],
      "source": [
        "images_pred, labels_pred = next(test_generator)  # Load a batch of images and labels\n",
        "plt.imshow(image.array_to_img(images_pred[9]))"
      ]
    },
    {
      "cell_type": "code",
      "execution_count": null,
      "metadata": {
        "id": "qWIbOrK0O34Q"
      },
      "outputs": [],
      "source": [
        "pred = model.predict(test_generator)\n",
        "results = np.argmax(pred,axis=-1)\n",
        "mapped_results = [mapping_dict.get(item) for item in results]"
      ]
    },
    {
      "cell_type": "code",
      "execution_count": null,
      "metadata": {
        "id": "Sz_-dXK0O34R"
      },
      "outputs": [],
      "source": [
        "expected = []\n",
        "for i in range(len(letters)):\n",
        "    for j in range(test_letter_count[i]):\n",
        "        expected.append(letters[i])"
      ]
    },
    {
      "cell_type": "markdown",
      "metadata": {
        "id": "UxXLhJ5ZO34R"
      },
      "source": [
        "## Classification Report"
      ]
    },
    {
      "cell_type": "code",
      "execution_count": null,
      "metadata": {
        "id": "euZQxHd3O34R"
      },
      "outputs": [],
      "source": [
        "print(classification_report(expected, mapped_results, target_names=letters))"
      ]
    },
    {
      "cell_type": "markdown",
      "metadata": {
        "id": "_tRxKVGoO34R"
      },
      "source": [
        "## Confusion Matrix"
      ]
    },
    {
      "cell_type": "code",
      "execution_count": null,
      "metadata": {
        "id": "ILtIlnKeO34W"
      },
      "outputs": [],
      "source": [
        "def draw_confusion_matrix(true, preds):\n",
        "   conf_matx = confusion_matrix(true, preds)\n",
        "   sns.heatmap(\n",
        "      conf_matx,\n",
        "      annot=True,\n",
        "      annot_kws={\"size\": 12},\n",
        "      fmt='g',\n",
        "      cbar=False,\n",
        "      cmap=\"viridis\",\n",
        "      xticklabels=letters,\n",
        "      yticklabels=letters\n",
        "\n",
        "   )\n",
        "   plt.show()"
      ]
    },
    {
      "cell_type": "code",
      "execution_count": null,
      "metadata": {
        "id": "sGnt1675O34W"
      },
      "outputs": [],
      "source": [
        "\n",
        "draw_confusion_matrix(expected, mapped_results)"
      ]
    },
    {
      "cell_type": "markdown",
      "metadata": {
        "id": "5pIBYhwHO34X"
      },
      "source": [
        "## Prediction Analysis"
      ]
    },
    {
      "cell_type": "code",
      "execution_count": null,
      "metadata": {
        "id": "dWpQz8n2O34X"
      },
      "outputs": [],
      "source": [
        "array_prediction=np.array([expected,mapped_results]).T\n",
        "df_prediction=pd.DataFrame(array_prediction, columns=['Expected','Predicted'])\n",
        "df_prediction"
      ]
    },
    {
      "cell_type": "code",
      "execution_count": null,
      "metadata": {
        "id": "f4C0XAHsO34X"
      },
      "outputs": [],
      "source": []
    },
    {
      "cell_type": "markdown",
      "metadata": {
        "id": "yB-dC98zO34X"
      },
      "source": [
        "# Save log\n",
        "May not save the model due to it's size"
      ]
    },
    {
      "cell_type": "code",
      "execution_count": null,
      "metadata": {
        "id": "bMkBbv9rO34X"
      },
      "outputs": [],
      "source": [
        "# May not save the model due to it's size\n",
        "save_model_log()"
      ]
    },
    {
      "cell_type": "markdown",
      "metadata": {
        "id": "irr6FuTHO34X"
      },
      "source": [
        "# Move back"
      ]
    },
    {
      "cell_type": "code",
      "execution_count": null,
      "metadata": {
        "id": "4Nq-Agh4O34Y"
      },
      "outputs": [],
      "source": [
        "for letter in letters:\n",
        "    for dataset in datasets:\n",
        "        source_dir = os.path.join(main_directory, dataset, letter)\n",
        "        files = os.listdir(source_dir)\n",
        "        for file in files:\n",
        "            dest = os.path.join(main_directory, letter, file)\n",
        "            shutil.move(os.path.join(source_dir, file), dest)"
      ]
    },
    {
      "cell_type": "code",
      "source": [],
      "metadata": {
        "id": "zEeRdXrEGqo-"
      },
      "execution_count": null,
      "outputs": []
    }
  ],
  "metadata": {
    "kernelspec": {
      "display_name": "Python 3",
      "name": "python3"
    },
    "language_info": {
      "codemirror_mode": {
        "name": "ipython",
        "version": 3
      },
      "file_extension": ".py",
      "mimetype": "text/x-python",
      "name": "python",
      "nbconvert_exporter": "python",
      "pygments_lexer": "ipython3",
      "version": "3.11.5"
    },
    "colab": {
      "provenance": [],
      "gpuType": "T4"
    },
    "accelerator": "GPU"
  },
  "nbformat": 4,
  "nbformat_minor": 0
}